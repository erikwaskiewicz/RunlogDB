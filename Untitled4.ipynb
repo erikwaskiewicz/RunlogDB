{
 "cells": [
  {
   "cell_type": "code",
   "execution_count": 2,
   "metadata": {},
   "outputs": [
    {
     "name": "stdout",
     "output_type": "stream",
     "text": [
      "[['Id', 'get'], ['Instrument', 'find'], ['Date', 'find']]\n"
     ]
    }
   ],
   "source": [
    "runinfo_dict = {}\n",
    "runinfo_values = [[\"Id\", \"get\"], \n",
    "                  [\"Instrument\", \"find\"], \n",
    "                  [\"Date\", \"find\"]]\n",
    "print(runinfo_values)\n",
    "\n",
    "print(runin)"
   ]
  },
  {
   "cell_type": "code",
   "execution_count": 5,
   "metadata": {},
   "outputs": [
    {
     "name": "stdout",
     "output_type": "stream",
     "text": [
      "Id\n",
      "Instrument\n",
      "Date\n"
     ]
    }
   ],
   "source": [
    "for item in runinfo_values:\n",
    "    print(item[0])"
   ]
  },
  {
   "cell_type": "code",
   "execution_count": 33,
   "metadata": {},
   "outputs": [
    {
     "name": "stdout",
     "output_type": "stream",
     "text": [
      "151\n"
     ]
    }
   ],
   "source": [
    "import json \n",
    "\n",
    "with open('/users/seemuali/runlog_resources/output.json') as file:\n",
    "    output_dict = json.load(file)\n",
    "    file.close()\n",
    "\n",
    "    runinfo_dict = {}\n",
    "    ws_dict = {}\n",
    "    sample_dict = {}\n",
    " \n",
    "    for key, val in output_dict[\"Header\"].items():\n",
    "        runinfo_dict[key] = val\n",
    "\n",
    "    for key, val in output_dict[\"Reads\"].items():\n",
    "        runinfo_dict[key]= val\n",
    "        \n",
    "\n",
    "    \n",
    "    for key, val in output_dict[\"Data\"].items():\n",
    "        ws_dict = val\n",
    "        \n",
    "        for key, val in (ws_dict[\"samples\"].items()):\n",
    "            sample_dict = val\n",
    "            sample_dict[\"sample_id\"]= key\n",
    "            #print(sample_dict)\n",
    "print (runinfo_dict[\"read1\"]) \n",
    "\n"
   ]
  },
  {
   "cell_type": "code",
   "execution_count": 15,
   "metadata": {},
   "outputs": [
    {
     "name": "stdout",
     "output_type": "stream",
     "text": [
      "{'18M12955': {'Sample_Well': '1', 'I7_Index_ID': 'Bc1', 'index': 'ATCACG', 'Sample_Project': '', 'Description': 'pipelineName=SomaticAmplicon;pipelineVersion=1.7.5;panel=NGHS-201X', 'sex': None}, 'sample_id': 'NTC-18-9118-GIST', '18M18878': {'Sample_Well': '2', 'I7_Index_ID': 'Bc2', 'index': 'CGATGT', 'Sample_Project': '', 'Description': 'pipelineName=SomaticAmplicon;pipelineVersion=1.7.5;panel=NGHS-201X', 'sex': None}, '18M18998': {'Sample_Well': '3', 'I7_Index_ID': 'Bc3', 'index': 'TTAGGC', 'Sample_Project': '', 'Description': 'pipelineName=SomaticAmplicon;pipelineVersion=1.7.5;panel=NGHS-201X', 'sex': None}, '18M19035': {'Sample_Well': '4', 'I7_Index_ID': 'Bc4', 'index': 'TGACCA', 'Sample_Project': '', 'Description': 'pipelineName=SomaticAmplicon;pipelineVersion=1.7.5;panel=NGHS-201X', 'sex': None}, '18M19148': {'Sample_Well': '5', 'I7_Index_ID': 'Bc5', 'index': 'ACAGTG', 'Sample_Project': '', 'Description': 'pipelineName=SomaticAmplicon;pipelineVersion=1.7.5;panel=NGHS-201X', 'sex': None}, '18M19153': {'Sample_Well': '6', 'I7_Index_ID': 'Bc6', 'index': 'GCCAAT', 'Sample_Project': '', 'Description': 'pipelineName=SomaticAmplicon;pipelineVersion=1.7.5;panel=NGHS-201X', 'sex': None}, '18M19193': {'Sample_Well': '7', 'I7_Index_ID': 'Bc7', 'index': 'CAGATC', 'Sample_Project': '', 'Description': 'pipelineName=SomaticAmplicon;pipelineVersion=1.7.5;panel=NGHS-201X', 'sex': None}, '18M19194': {'Sample_Well': '8', 'I7_Index_ID': 'Bc8', 'index': 'ACTTGA', 'Sample_Project': '', 'Description': 'pipelineName=SomaticAmplicon;pipelineVersion=1.7.5;panel=NGHS-201X', 'sex': None}, '18M19207': {'Sample_Well': '9', 'I7_Index_ID': 'Bc9', 'index': 'GATCAG', 'Sample_Project': '', 'Description': 'pipelineName=SomaticAmplicon;pipelineVersion=1.7.5;panel=NGHS-201X', 'sex': None}, '18M19208': {'Sample_Well': '10', 'I7_Index_ID': 'Bc10', 'index': 'TAGCTT', 'Sample_Project': '', 'Description': 'pipelineName=SomaticAmplicon;pipelineVersion=1.7.5;panel=NGHS-201X', 'sex': None}, '18M19211': {'Sample_Well': '11', 'I7_Index_ID': 'Bc11', 'index': 'GGCTAC', 'Sample_Project': '', 'Description': 'pipelineName=SomaticAmplicon;pipelineVersion=1.7.5;panel=NGHS-201X', 'sex': None}, '18M19246': {'Sample_Well': '12', 'I7_Index_ID': 'Bc12', 'index': 'CTTGTA', 'Sample_Project': '', 'Description': 'pipelineName=SomaticAmplicon;pipelineVersion=1.7.5;panel=NGHS-201X', 'sex': None}, '18M19247': {'Sample_Well': '13', 'I7_Index_ID': 'Bc13', 'index': 'AGTCAA', 'Sample_Project': '', 'Description': 'pipelineName=SomaticAmplicon;pipelineVersion=1.7.5;panel=NGHS-201X', 'sex': None}, '18M19251': {'Sample_Well': '14', 'I7_Index_ID': 'Bc14', 'index': 'AGTTCC', 'Sample_Project': '', 'Description': 'pipelineName=SomaticAmplicon;pipelineVersion=1.7.5;panel=NGHS-201X', 'sex': None}, '18M19288': {'Sample_Well': '15', 'I7_Index_ID': 'Bc15', 'index': 'ATGTCA', 'Sample_Project': '', 'Description': 'pipelineName=SomaticAmplicon;pipelineVersion=1.7.5;panel=NGHS-201X', 'sex': None}, '18M19337': {'Sample_Well': '16', 'I7_Index_ID': 'Bc16', 'index': 'CCGTCC', 'Sample_Project': '', 'Description': 'pipelineName=SomaticAmplicon;pipelineVersion=1.7.5;panel=NGHS-201X', 'sex': None}, '18M19338': {'Sample_Well': '17', 'I7_Index_ID': 'Bc18', 'index': 'GTCCGC', 'Sample_Project': '', 'Description': 'pipelineName=SomaticAmplicon;pipelineVersion=1.7.5;panel=NGHS-201X', 'sex': None}, '18M19366': {'Sample_Well': '18', 'I7_Index_ID': 'Bc19', 'index': 'GTGAAA', 'Sample_Project': '', 'Description': 'pipelineName=SomaticAmplicon;pipelineVersion=1.7.5;panel=NGHS-201X', 'sex': None}, 'NTC-18-9110-TAM': {'Sample_Well': '19', 'I7_Index_ID': 'Bc20', 'index': 'GTGGCC', 'Sample_Project': '', 'Description': 'pipelineName=SomaticAmplicon;pipelineVersion=1.7.5;panel=NGHS-201X', 'sex': None}, '18M18877': {'Sample_Well': '20', 'I7_Index_ID': 'Bc21', 'index': 'GTTTCG', 'Sample_Project': '', 'Description': 'pipelineName=SomaticAmplicon;pipelineVersion=1.7.5;panel=NGHS-101X', 'sex': None}, '18M18891': {'Sample_Well': '21', 'I7_Index_ID': 'Bc22', 'index': 'CGTACG', 'Sample_Project': '', 'Description': 'pipelineName=SomaticAmplicon;pipelineVersion=1.7.5;panel=NGHS-101X', 'sex': None}, '18M19154': {'Sample_Well': '22', 'I7_Index_ID': 'Bc23', 'index': 'GAGTGG', 'Sample_Project': '', 'Description': 'pipelineName=SomaticAmplicon;pipelineVersion=1.7.5;panel=NGHS-101X', 'sex': None}, 'NTC-18-9118-GIST': {'Sample_Well': '23', 'I7_Index_ID': 'Bc25', 'index': 'ACTGAT', 'Sample_Project': '', 'Description': 'pipelineName=SomaticAmplicon;pipelineVersion=1.7.5;panel=NGHS-101X;sex=1', 'sex': '1'}}\n"
     ]
    }
   ],
   "source": [
    "print(sample_dict)"
   ]
  },
  {
   "cell_type": "code",
   "execution_count": null,
   "metadata": {},
   "outputs": [],
   "source": []
  }
 ],
 "metadata": {
  "kernelspec": {
   "display_name": "Python 3",
   "language": "python",
   "name": "python3"
  },
  "language_info": {
   "codemirror_mode": {
    "name": "ipython",
    "version": 3
   },
   "file_extension": ".py",
   "mimetype": "text/x-python",
   "name": "python",
   "nbconvert_exporter": "python",
   "pygments_lexer": "ipython3",
   "version": "3.7.3"
  }
 },
 "nbformat": 4,
 "nbformat_minor": 2
}
