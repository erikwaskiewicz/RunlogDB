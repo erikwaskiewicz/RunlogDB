{
 "cells": [
  {
   "cell_type": "code",
   "execution_count": 66,
   "metadata": {},
   "outputs": [
    {
     "name": "stdout",
     "output_type": "stream",
     "text": [
      "['/Users/seemuali/RunlogDB', '/Users/seemuali/anaconda3/lib/python37.zip', '/Users/seemuali/anaconda3/lib/python3.7', '/Users/seemuali/anaconda3/lib/python3.7/lib-dynload', '', '/Users/seemuali/anaconda3/lib/python3.7/site-packages', '/Users/seemuali/anaconda3/lib/python3.7/site-packages/aeosa', '/Users/seemuali/anaconda3/lib/python3.7/site-packages/IPython/extensions', '/Users/seemuali/.ipython']\n",
      "18-9110\n",
      "18-9118\n"
     ]
    }
   ],
   "source": [
    "import json \n",
    "#import rhinoscriptsyntax as rs \n",
    "\n",
    "import sys \n",
    "print (sys.path)\n",
    "\n",
    "with open('/users/seemuali/runlog_resources/output.json', 'r') as file:\n",
    "    \n",
    "    list = []\n",
    "\n",
    "    output = json.load(file)\n",
    "    \n",
    "    for element in output[\"Data\"]:\n",
    "        print(element)\n",
    "\n",
    "\n",
    "    #print (data[\"18-9110\"])\n",
    "    \n",
    "    \n",
    "    #print(output)\n",
    "    #print (Data[\"18-9110\"])\n",
    "\n",
    "\n",
    "\n",
    "    \n",
    "   \n",
    "    \n",
    "#for ws_ID in output['Data']:\n",
    "\n",
    "\n",
    "\n",
    "\n",
    "\n",
    "\n",
    "#print (output[\"Data\"]) \n"
   ]
  },
  {
   "cell_type": "code",
   "execution_count": null,
   "metadata": {},
   "outputs": [],
   "source": []
  },
  {
   "cell_type": "code",
   "execution_count": null,
   "metadata": {},
   "outputs": [],
   "source": []
  }
 ],
 "metadata": {
  "kernelspec": {
   "display_name": "Python 3",
   "language": "python",
   "name": "python3"
  },
  "language_info": {
   "codemirror_mode": {
    "name": "ipython",
    "version": 3
   },
   "file_extension": ".py",
   "mimetype": "text/x-python",
   "name": "python",
   "nbconvert_exporter": "python",
   "pygments_lexer": "ipython3",
   "version": "3.7.3"
  }
 },
 "nbformat": 4,
 "nbformat_minor": 2
}
